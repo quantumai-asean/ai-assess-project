{
 "cells": [
  {
   "cell_type": "markdown",
   "metadata": {},
   "source": [
    "refs: \n",
    "* https://www.tensorflow.org/responsible_ai/model_card_toolkit/guide\n",
    "* https://www.tensorflow.org/responsible_ai/model_card_toolkit/guide/concepts\n",
    "* [Annotate Modelcard information](https://www.tensorflow.org/responsible_ai/model_card_toolkit/examples/Scikit_Learn_Model_Card_Toolkit_Demo#annotate_information_into_model_card)\n",
    "* [Extending MC with RAI tests](https://github.com/cylynx/verifyml/blob/d3b4b3465493b802aba87edff81015f0db97805b/verifyml/model_card_toolkit/model_card.py#L333) \n",
    "* [Model Card Source](https://github.com/tensorflow/model-card-toolkit/blob/main/model_card_toolkit/core.py)"
   ]
  },
  {
   "cell_type": "code",
   "execution_count": 3,
   "metadata": {},
   "outputs": [],
   "source": [
    "# add dev src path to system\n",
    "import sys\n",
    "\n",
    "# Specify the path of the directory containing the modules\n",
    "dev_module_directory = '../webapp/src'\n",
    "\n",
    "# Add the directory to the sys.path list\n",
    "sys.path.append(dev_module_directory)"
   ]
  },
  {
   "cell_type": "code",
   "execution_count": 4,
   "metadata": {},
   "outputs": [],
   "source": [
    "import core_engine"
   ]
  },
  {
   "cell_type": "code",
   "execution_count": 5,
   "metadata": {},
   "outputs": [],
   "source": [
    "mo = core_engine.ModelOwner()"
   ]
  },
  {
   "cell_type": "markdown",
   "metadata": {},
   "source": [
    "### Test psycopg"
   ]
  },
  {
   "cell_type": "code",
   "execution_count": 1,
   "metadata": {},
   "outputs": [],
   "source": [
    "import psycopg"
   ]
  },
  {
   "cell_type": "code",
   "execution_count": 17,
   "metadata": {},
   "outputs": [],
   "source": [
    "# this works in terminal but on ipykernel ... coould be asyncio issue\n",
    "with psycopg.connect(\"host=127.0.0.1 port=5432 dbname=postgres user=postgres password=postgres\") as conn:\n",
    "    with conn.cursor() as cur:\n",
    "        cur.execute(\"SELECT * FROM owner\")\n",
    "        cur.fetchall()\n",
    "        records = []\n",
    "        for record in cur:\n",
    "            print(record)\n",
    "\n",
    "\n",
    "#will print \n",
    "#<psycopg.Cursor [TUPLES_OK] [INTRANS] (host=127.0.0.1 database=postgres) at 0xffffb2c64720>\n",
    "#[('Quantum AI Sdn Bhd', 'sengtak.goh@cognigen.xyz', 1, UUID('4129bd65-3ea3-4de9-a5cc-6122106be3dd'))]"
   ]
  },
  {
   "cell_type": "code",
   "execution_count": 18,
   "metadata": {},
   "outputs": [
    {
     "data": {
      "text/plain": [
       "[]"
      ]
     },
     "execution_count": 18,
     "metadata": {},
     "output_type": "execute_result"
    }
   ],
   "source": [
    "records"
   ]
  },
  {
   "cell_type": "markdown",
   "metadata": {},
   "source": [
    "# generate list of countries\n",
    "\n",
    "[turn list to enum](https://stackoverflow.com/questions/62120732/generate-an-enum-class-from-a-list-in-python)"
   ]
  },
  {
   "cell_type": "code",
   "execution_count": 6,
   "metadata": {},
   "outputs": [],
   "source": [
    "from utils import generate_enum\n",
    "import pycountry"
   ]
  },
  {
   "cell_type": "code",
   "execution_count": 7,
   "metadata": {},
   "outputs": [],
   "source": [
    "def init_country_list (): \n",
    "  cntry = []\n",
    "  for c in list(pycountry.countries):\n",
    "    cntry += [(c.alpha_2, c.name)]\n",
    "  return cntry\n"
   ]
  },
  {
   "cell_type": "code",
   "execution_count": null,
   "metadata": {},
   "outputs": [],
   "source": [
    "CountryList = init_country_list()\n",
    "print(generate_enum('EnumCountry',dict(CountryList)))"
   ]
  },
  {
   "cell_type": "code",
   "execution_count": null,
   "metadata": {},
   "outputs": [],
   "source": []
  }
 ],
 "metadata": {
  "kernelspec": {
   "display_name": "Python 3",
   "language": "python",
   "name": "python3"
  },
  "language_info": {
   "codemirror_mode": {
    "name": "ipython",
    "version": 3
   },
   "file_extension": ".py",
   "mimetype": "text/x-python",
   "name": "python",
   "nbconvert_exporter": "python",
   "pygments_lexer": "ipython3",
   "version": "3.11.5"
  }
 },
 "nbformat": 4,
 "nbformat_minor": 2
}
