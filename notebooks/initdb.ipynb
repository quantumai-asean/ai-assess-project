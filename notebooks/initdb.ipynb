{
 "cells": [
  {
   "cell_type": "markdown",
   "metadata": {},
   "source": [
    "# Interactively Initialize DB used for this project"
   ]
  },
  {
   "cell_type": "code",
   "execution_count": 1,
   "metadata": {},
   "outputs": [],
   "source": [
    "import psycopg"
   ]
  },
  {
   "cell_type": "markdown",
   "metadata": {},
   "source": [
    "## Use this!"
   ]
  },
  {
   "cell_type": "code",
   "execution_count": 2,
   "metadata": {},
   "outputs": [
    {
     "ename": "DuplicateTable",
     "evalue": "relation \"userlogin\" already exists",
     "output_type": "error",
     "traceback": [
      "\u001b[0;31m---------------------------------------------------------------------------\u001b[0m",
      "\u001b[0;31mDuplicateTable\u001b[0m                            Traceback (most recent call last)",
      "Cell \u001b[0;32mIn[2], line 14\u001b[0m\n\u001b[1;32m      5\u001b[0m cur\u001b[38;5;241m.\u001b[39mexecute(\u001b[38;5;124m\"\u001b[39m\u001b[38;5;124mCREATE EXTENSION IF NOT EXISTS \u001b[39m\u001b[38;5;130;01m\\\"\u001b[39;00m\u001b[38;5;124muuid-ossp\u001b[39m\u001b[38;5;130;01m\\\"\u001b[39;00m\u001b[38;5;124m\"\u001b[39m)\n\u001b[1;32m      6\u001b[0m create_ownertable_str \u001b[38;5;241m=\u001b[39m \u001b[38;5;124m\"\"\"\u001b[39m\u001b[38;5;124mCREATE TABLE userlogin (                                                     \u001b[39m\n\u001b[1;32m      7\u001b[0m \u001b[38;5;124m            name varchar(50) NOT NULL CHECK (name <> \u001b[39m\u001b[38;5;124m'\u001b[39m\u001b[38;5;124m'\u001b[39m\u001b[38;5;124m) UNIQUE,\u001b[39m\n\u001b[1;32m      8\u001b[0m \u001b[38;5;124m            email varchar(50) NOT NULL CHECK (email <> \u001b[39m\u001b[38;5;124m'\u001b[39m\u001b[38;5;124m'\u001b[39m\u001b[38;5;124m AND email = lower(email)) UNIQUE,\u001b[39m\n\u001b[0;32m   (...)\u001b[0m\n\u001b[1;32m     12\u001b[0m \u001b[38;5;124m            url varchar(50)\u001b[39m\n\u001b[1;32m     13\u001b[0m \u001b[38;5;124m        )\u001b[39m\u001b[38;5;124m\"\"\"\u001b[39m\n\u001b[0;32m---> 14\u001b[0m cur\u001b[38;5;241m.\u001b[39mexecute(create_ownertable_str)\n\u001b[1;32m     15\u001b[0m add_uniq_constraint_str \u001b[38;5;241m=\u001b[39m \u001b[38;5;124m\"\u001b[39m\u001b[38;5;124mCREATE UNIQUE INDEX owner_name_uniqueness ON userlogin (LOWER(name))\u001b[39m\u001b[38;5;124m\"\u001b[39m\n\u001b[1;32m     16\u001b[0m cur\u001b[38;5;241m.\u001b[39mexecute(add_uniq_constraint_str)\n",
      "File \u001b[0;32m/opt/conda/lib/python3.11/site-packages/psycopg/cursor.py:732\u001b[0m, in \u001b[0;36mCursor.execute\u001b[0;34m(self, query, params, prepare, binary)\u001b[0m\n\u001b[1;32m    728\u001b[0m         \u001b[38;5;28mself\u001b[39m\u001b[38;5;241m.\u001b[39m_conn\u001b[38;5;241m.\u001b[39mwait(\n\u001b[1;32m    729\u001b[0m             \u001b[38;5;28mself\u001b[39m\u001b[38;5;241m.\u001b[39m_execute_gen(query, params, prepare\u001b[38;5;241m=\u001b[39mprepare, binary\u001b[38;5;241m=\u001b[39mbinary)\n\u001b[1;32m    730\u001b[0m         )\n\u001b[1;32m    731\u001b[0m \u001b[38;5;28;01mexcept\u001b[39;00m e\u001b[38;5;241m.\u001b[39m_NO_TRACEBACK \u001b[38;5;28;01mas\u001b[39;00m ex:\n\u001b[0;32m--> 732\u001b[0m     \u001b[38;5;28;01mraise\u001b[39;00m ex\u001b[38;5;241m.\u001b[39mwith_traceback(\u001b[38;5;28;01mNone\u001b[39;00m)\n\u001b[1;32m    733\u001b[0m \u001b[38;5;28;01mreturn\u001b[39;00m \u001b[38;5;28mself\u001b[39m\n",
      "\u001b[0;31mDuplicateTable\u001b[0m: relation \"userlogin\" already exists"
     ]
    }
   ],
   "source": [
    "# create user table\n",
    "with psycopg.connect(\"host=127.0.0.1 port=5432 dbname=postgres user=postgres password=postgres\") as conn:\n",
    "    with conn.cursor() as cur:\n",
    "        # use extension to create UUID on insert\n",
    "        cur.execute(\"CREATE EXTENSION IF NOT EXISTS \\\"uuid-ossp\\\"\")\n",
    "        create_ownertable_str = \"\"\"CREATE TABLE userlogin (                                                     \n",
    "                    name varchar(50) NOT NULL CHECK (name <> '') UNIQUE,\n",
    "                    email varchar(50) NOT NULL CHECK (email <> '' AND email = lower(email)) UNIQUE,\n",
    "                    id SERIAL PRIMARY KEY,\n",
    "                    password varchar(64) NOT NULL,\n",
    "                    country varchar(3) NOT NULL,\n",
    "                    url varchar(50)\n",
    "                )\"\"\"\n",
    "        cur.execute(create_ownertable_str)\n",
    "        add_uniq_constraint_str = \"CREATE UNIQUE INDEX owner_name_uniqueness ON userlogin (LOWER(name))\"\n",
    "        cur.execute(add_uniq_constraint_str)\n",
    "\n",
    "\n",
    "        # Make the changes to the database persistent\n",
    "    conn.commit()"
   ]
  },
  {
   "cell_type": "code",
   "execution_count": 3,
   "metadata": {},
   "outputs": [
    {
     "ename": "DuplicateTable",
     "evalue": "relation \"modelcard\" already exists",
     "output_type": "error",
     "traceback": [
      "\u001b[0;31m---------------------------------------------------------------------------\u001b[0m",
      "\u001b[0;31mDuplicateTable\u001b[0m                            Traceback (most recent call last)",
      "Cell \u001b[0;32mIn[3], line 15\u001b[0m\n\u001b[1;32m      3\u001b[0m \u001b[38;5;28;01mwith\u001b[39;00m conn\u001b[38;5;241m.\u001b[39mcursor() \u001b[38;5;28;01mas\u001b[39;00m cur:\n\u001b[1;32m      4\u001b[0m     \u001b[38;5;66;03m# use extension to create UUID on insert\u001b[39;00m\n\u001b[1;32m      5\u001b[0m     create_ownertable_str \u001b[38;5;241m=\u001b[39m \u001b[38;5;124m\"\"\"\u001b[39m\u001b[38;5;124mCREATE TABLE modelcard (                                                     \u001b[39m\n\u001b[1;32m      6\u001b[0m \u001b[38;5;124m                name varchar(30) NOT NULL CHECK (name <> \u001b[39m\u001b[38;5;124m'\u001b[39m\u001b[38;5;124m'\u001b[39m\u001b[38;5;124m),\u001b[39m\n\u001b[1;32m      7\u001b[0m \u001b[38;5;124m                version varchar(30) NOT NULL CHECK (name <> \u001b[39m\u001b[38;5;124m'\u001b[39m\u001b[38;5;124m'\u001b[39m\u001b[38;5;124m),\u001b[39m\n\u001b[0;32m   (...)\u001b[0m\n\u001b[1;32m     13\u001b[0m \u001b[38;5;124m                generated_at timestamptz DEFAULT current_timestamp\u001b[39m\n\u001b[1;32m     14\u001b[0m \u001b[38;5;124m            )\u001b[39m\u001b[38;5;124m\"\"\"\u001b[39m\n\u001b[0;32m---> 15\u001b[0m     cur\u001b[38;5;241m.\u001b[39mexecute(create_ownertable_str)\n\u001b[1;32m     17\u001b[0m     \u001b[38;5;66;03m# Make the changes to the database persistent\u001b[39;00m\n\u001b[1;32m     18\u001b[0m conn\u001b[38;5;241m.\u001b[39mcommit()\n",
      "File \u001b[0;32m/opt/conda/lib/python3.11/site-packages/psycopg/cursor.py:732\u001b[0m, in \u001b[0;36mCursor.execute\u001b[0;34m(self, query, params, prepare, binary)\u001b[0m\n\u001b[1;32m    728\u001b[0m         \u001b[38;5;28mself\u001b[39m\u001b[38;5;241m.\u001b[39m_conn\u001b[38;5;241m.\u001b[39mwait(\n\u001b[1;32m    729\u001b[0m             \u001b[38;5;28mself\u001b[39m\u001b[38;5;241m.\u001b[39m_execute_gen(query, params, prepare\u001b[38;5;241m=\u001b[39mprepare, binary\u001b[38;5;241m=\u001b[39mbinary)\n\u001b[1;32m    730\u001b[0m         )\n\u001b[1;32m    731\u001b[0m \u001b[38;5;28;01mexcept\u001b[39;00m e\u001b[38;5;241m.\u001b[39m_NO_TRACEBACK \u001b[38;5;28;01mas\u001b[39;00m ex:\n\u001b[0;32m--> 732\u001b[0m     \u001b[38;5;28;01mraise\u001b[39;00m ex\u001b[38;5;241m.\u001b[39mwith_traceback(\u001b[38;5;28;01mNone\u001b[39;00m)\n\u001b[1;32m    733\u001b[0m \u001b[38;5;28;01mreturn\u001b[39;00m \u001b[38;5;28mself\u001b[39m\n",
      "\u001b[0;31mDuplicateTable\u001b[0m: relation \"modelcard\" already exists"
     ]
    }
   ],
   "source": [
    "# create modelcard table\n",
    "with psycopg.connect(\"host=127.0.0.1 port=5432 dbname=postgres user=postgres password=postgres\") as conn:\n",
    "    with conn.cursor() as cur:\n",
    "        # use extension to create UUID on insert\n",
    "        create_ownertable_str = \"\"\"CREATE TABLE modelcard (                                                     \n",
    "                    name varchar(30) NOT NULL CHECK (name <> ''),\n",
    "                    version varchar(30) NOT NULL CHECK (name <> ''),\n",
    "                    email varchar(50) NOT NULL CHECK (email <> '' AND email = lower(email)),\n",
    "                    id SERIAL PRIMARY KEY,\n",
    "                    uuid UUID DEFAULT uuid_generate_v4(),\n",
    "                    modelcard_data jsonb,\n",
    "                    comments varchar(80),\n",
    "                    generated_at timestamptz DEFAULT current_timestamp\n",
    "                )\"\"\"\n",
    "        cur.execute(create_ownertable_str)\n",
    "\n",
    "        # Make the changes to the database persistent\n",
    "    conn.commit()"
   ]
  },
  {
   "cell_type": "code",
   "execution_count": null,
   "metadata": {},
   "outputs": [],
   "source": []
  }
 ],
 "metadata": {
  "kernelspec": {
   "display_name": "base",
   "language": "python",
   "name": "python3"
  },
  "language_info": {
   "codemirror_mode": {
    "name": "ipython",
    "version": 3
   },
   "file_extension": ".py",
   "mimetype": "text/x-python",
   "name": "python",
   "nbconvert_exporter": "python",
   "pygments_lexer": "ipython3",
   "version": "3.11.5"
  }
 },
 "nbformat": 4,
 "nbformat_minor": 2
}
