{
 "cells": [
  {
   "cell_type": "markdown",
   "metadata": {},
   "source": [
    "# Interactively Initialize DB used for this project"
   ]
  },
  {
   "cell_type": "code",
   "execution_count": 1,
   "metadata": {},
   "outputs": [],
   "source": [
    "import psycopg"
   ]
  },
  {
   "cell_type": "markdown",
   "metadata": {},
   "source": [
    "## Use this!"
   ]
  },
  {
   "cell_type": "code",
   "execution_count": 2,
   "metadata": {},
   "outputs": [],
   "source": [
    "# create user table\n",
    "with psycopg.connect(\"host=127.0.0.1 port=5432 dbname=postgres user=postgres password=postgres\") as conn:\n",
    "    with conn.cursor() as cur:\n",
    "        # use extension to create UUID on insert\n",
    "        cur.execute(\"CREATE EXTENSION IF NOT EXISTS \\\"uuid-ossp\\\"\")\n",
    "        create_ownertable_str = \"\"\"CREATE TABLE userlogin (                                                     \n",
    "                    name varchar(50) NOT NULL CHECK (name <> '') UNIQUE,\n",
    "                    email varchar(50) NOT NULL CHECK (email <> '' AND email = lower(email)) UNIQUE,\n",
    "                    id SERIAL PRIMARY KEY,\n",
    "                    password varchar(64) NOT NULL,\n",
    "                    country varchar(3) NOT NULL,\n",
    "                    url varchar(50)\n",
    "                )\"\"\"\n",
    "        cur.execute(create_ownertable_str)\n",
    "        add_uniq_constraint_str = \"CREATE UNIQUE INDEX owner_name_uniqueness ON userlogin (LOWER(name))\"\n",
    "        cur.execute(add_uniq_constraint_str)\n",
    "\n",
    "\n",
    "        # Make the changes to the database persistent\n",
    "    conn.commit()"
   ]
  },
  {
   "cell_type": "code",
   "execution_count": null,
   "metadata": {},
   "outputs": [],
   "source": [
    "# create modelcard table\n",
    "with psycopg.connect(\"host=127.0.0.1 port=5432 dbname=postgres user=postgres password=postgres\") as conn:\n",
    "    with conn.cursor() as cur:\n",
    "        # use extension to create UUID on insert\n",
    "        create_ownertable_str = \"\"\"CREATE TABLE modelcard (                                                     \n",
    "                    name varchar(30) NOT NULL CHECK (name <> ''),\n",
    "                    version varchar(30) NOT NULL CHECK (name <> ''),\n",
    "                    email varchar(50) NOT NULL CHECK (email <> '' AND email = lower(email)),\n",
    "                    id SERIAL PRIMARY KEY,\n",
    "                    uuid UUID DEFAULT uuid_generate_v4(),\n",
    "                    modelcard_data jsonb,\n",
    "                    comments varchar(80),\n",
    "                    generated_at timestamptz DEFAULT current_timestamp\n",
    "                )\"\"\"\n",
    "        cur.execute(create_ownertable_str)\n",
    "\n",
    "\n",
    "\n",
    "        # Make the changes to the database persistent\n",
    "    conn.commit()"
   ]
  }
 ],
 "metadata": {
  "kernelspec": {
   "display_name": "base",
   "language": "python",
   "name": "python3"
  },
  "language_info": {
   "codemirror_mode": {
    "name": "ipython",
    "version": 3
   },
   "file_extension": ".py",
   "mimetype": "text/x-python",
   "name": "python",
   "nbconvert_exporter": "python",
   "pygments_lexer": "ipython3",
   "version": "3.11.5"
  }
 },
 "nbformat": 4,
 "nbformat_minor": 2
}
