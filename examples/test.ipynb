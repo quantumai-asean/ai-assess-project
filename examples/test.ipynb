{
 "cells": [
  {
   "cell_type": "markdown",
   "metadata": {},
   "source": [
    "refs: \n",
    "* https://www.tensorflow.org/responsible_ai/model_card_toolkit/guide\n",
    "* https://www.tensorflow.org/responsible_ai/model_card_toolkit/guide/concepts\n",
    "* [Annotate Modelcard information](https://www.tensorflow.org/responsible_ai/model_card_toolkit/examples/Scikit_Learn_Model_Card_Toolkit_Demo#annotate_information_into_model_card)\n",
    "* [Extending MC with RAI tests](https://github.com/cylynx/verifyml/blob/d3b4b3465493b802aba87edff81015f0db97805b/verifyml/model_card_toolkit/model_card.py#L333) \n",
    "* [Model Card Source](https://github.com/tensorflow/model-card-toolkit/blob/main/model_card_toolkit/core.py)"
   ]
  },
  {
   "cell_type": "code",
   "execution_count": 3,
   "metadata": {},
   "outputs": [],
   "source": [
    "# add dev src path to system\n",
    "import sys\n",
    "\n",
    "# Specify the path of the directory containing the modules\n",
    "dev_module_directory = '../src'\n",
    "\n",
    "# Add the directory to the sys.path list\n",
    "sys.path.append(dev_module_directory)"
   ]
  },
  {
   "cell_type": "code",
   "execution_count": 4,
   "metadata": {},
   "outputs": [],
   "source": [
    "import core_engine"
   ]
  },
  {
   "cell_type": "code",
   "execution_count": 5,
   "metadata": {},
   "outputs": [],
   "source": [
    "mo = core_engine.ModelOwner()"
   ]
  },
  {
   "cell_type": "code",
   "execution_count": null,
   "metadata": {},
   "outputs": [],
   "source": []
  }
 ],
 "metadata": {
  "kernelspec": {
   "display_name": "Python 3",
   "language": "python",
   "name": "python3"
  },
  "language_info": {
   "codemirror_mode": {
    "name": "ipython",
    "version": 3
   },
   "file_extension": ".py",
   "mimetype": "text/x-python",
   "name": "python",
   "nbconvert_exporter": "python",
   "pygments_lexer": "ipython3",
   "version": "3.11.7"
  }
 },
 "nbformat": 4,
 "nbformat_minor": 2
}
